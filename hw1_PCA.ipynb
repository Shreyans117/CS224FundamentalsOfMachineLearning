{
  "cells": [
    {
      "cell_type": "markdown",
      "metadata": {
        "id": "UKc8K9_57UEz"
      },
      "source": [
        "## CS224 - Winter 2023\n",
        "## PROGRAMMING ASSIGNMENT 1 - Principal Component Analysis (PCA)\n",
        "\n",
        "### Due: February 13, 2023 @ 11:59pm PDT\n",
        "\n",
        "**Submission Method**: Export the Jupyter notebook as **PDF** and submit the PDF file on **Gradescope**. Please **LINK** each question from the assignment in Gradescope to the location of its answer in your PDF. (For more details, see the Assignment Guidelines.)\n",
        "\n",
        "**Maximum points**: 10"
      ]
    },
    {
      "cell_type": "markdown",
      "metadata": {
        "id": "JL5tIX4c9z6s"
      },
      "source": [
        "<div style=\"margin-bottom: 15px; padding: 15px; color: #31708f; background-color: #d9edf7; border: 1px solid #bce8f1; border-radius: 5px;\">\n",
        "    \n",
        "<b><font size=+2>Enter your information below:</font></b></br></br>\n",
        "\n",
        "  <b>(full) Name</b>: Shreyans Magdum\n",
        "  </br>\n",
        "\n",
        "  <b>Student ID Number</b>:  862254814\n",
        "  </br></br>\n",
        "    \n",
        "<b>By submitting this notebook, I assert that the work below is my own work, completed for this course.  Except where explicitly cited, none of the portions of this notebook are duplicated from anyone else's work or my own previous work.</b>\n",
        "</div>"
      ]
    },
    {
      "cell_type": "markdown",
      "metadata": {
        "id": "coxduSVB9gut"
      },
      "source": [
        "<div style=\"padding: 15px; color: #8a6d3b; background-color: #fcf8e3; border: 1px solid #faebcc; border-radius: 5px;\">\n",
        "<b><font size=+2>Academic Integrity</font></b></br> \n",
        "Each assignment should be done  individually. You may discuss general approaches with other students in the class, and ask questions to the TA, but  you must only submit work that is yours . If you receive help by any external sources (other than the TA and the instructor), you must properly credit those sources. The UCR Academic Integrity policies are available at <a href=\"http://conduct.ucr.edu/policies/academicintegrity.html\" target=\"_blank\">http://conduct.ucr.edu/policies/academicintegrity.html</a>.\n",
        "</div>"
      ]
    },
    {
      "cell_type": "markdown",
      "metadata": {
        "id": "StEpjy4JuSYA"
      },
      "source": [
        "# Overview \n",
        "In this assignment, We will implement PCA, apply it to the [**MNIST**](https://scikit-learn.org/stable/modules/generated/sklearn.datasets.load_digits.html) dataset, and observe how the reconstruction changes as we change the number of principal components used.\n",
        "\n",
        "For this assignment we will use the functionality of [Numpy](http://www.numpy.org/), and [Matplotlib](https://matplotlib.org/).\n",
        "\n",
        "*   Before you start, make sure you have installed all those packages in your local Jupyter instance.\n",
        "*   If you are asked to implement a particular functionality, you should **not** use an existing implementation from the libraries above (or some other library that you may find). When in doubt, **please just ASK**.\n",
        "*   It's okay to use functions in `numpy.linalg` to calculate matrix decomposition (e.g., `la.eig()`, `la.svd()`), but using built-in functions like `sklearn.decomposition.PCA()` will **not** get you any points.\n",
        "\n",
        "\n",
        "Please read **all** cells carefully and answer **all** parts (both text and missing code). You will need to complete all the code marked `TODO` and answer descriptive/derivation questions."
      ]
    },
    {
      "cell_type": "code",
      "execution_count": 9,
      "metadata": {
        "id": "NM7-Cx4H-jTt"
      },
      "outputs": [],
      "source": [
        "%matplotlib inline\n",
        "import numpy as np\n",
        "import matplotlib.pyplot as plt\n",
        "from sklearn.datasets import load_digits\n",
        "# DO NOT REMOVE THE CODE ABOVE"
      ]
    },
    {
      "cell_type": "markdown",
      "metadata": {
        "id": "WHgsgFGF-kNA"
      },
      "source": [
        "## Question 1 [10 points]\n",
        "\n",
        "**Preliminaries**\n",
        "\n",
        "The [**MNIST**](https://scikit-learn.org/stable/modules/generated/sklearn.datasets.load_digits.html) database (Modified National Institute of Standards and Technology database) is a large database of handwritten digits that is commonly used for training various image processing systems.\n",
        "\n",
        "First, Let's import the images and vectorize each image in the dataset."
      ]
    },
    {
      "cell_type": "code",
      "execution_count": 10,
      "metadata": {
        "id": "DnLvNYtwuSYC"
      },
      "outputs": [],
      "source": [
        "mnist = load_digits()\n",
        "imgs = mnist.data"
      ]
    },
    {
      "cell_type": "markdown",
      "metadata": {
        "id": "q_F8GgYQuSYC"
      },
      "source": [
        "Compute the mean of the images and subtract out the mean."
      ]
    },
    {
      "cell_type": "code",
      "execution_count": 11,
      "metadata": {
        "id": "G_aPdQuouSYC"
      },
      "outputs": [],
      "source": [
        "mean = np.mean(imgs, axis=0)\n",
        "imgsOG=imgs.copy()\n",
        "imgs -= mean \n",
        "# print(\"Imgs Shape: \", imgs.shape)\n",
        "# print(\"Imgs[0] Shape: \", imgs[0].shape)\n",
        "N=len(imgs)\n",
        "# print(N)\n",
        "R = np.matmul(imgs.T , imgs)/(N-1)\n",
        "# print(\"R Shape: \", R.shape)\n",
        "\n"
      ]
    },
    {
      "cell_type": "markdown",
      "metadata": {
        "id": "cbDUYbMnuSYD"
      },
      "source": [
        "Let us call each zero mean vectorized image to be $X$. For $N$ images, you have $X_1,X_2,\\dots,X_N$. Compute $[X^\\top X]= R$."
      ]
    },
    {
      "cell_type": "markdown",
      "metadata": {
        "id": "8UULkMygXPpd"
      },
      "source": [
        "**(a) [2 points]** Perform a principal components analysis of $R = V\\Lambda V^\\top$."
      ]
    },
    {
      "cell_type": "code",
      "execution_count": 12,
      "metadata": {
        "id": "TxXqO-naI2iG"
      },
      "outputs": [],
      "source": [
        "#TODO\n",
        "import numpy.linalg as la\n",
        "values,vectors=la.eig(R)\n",
        "# print(\"Eigen Values: \", values)\n",
        "# print(\"Eigen Vectors: \", vectors)\n",
        "vectorsT=vectors.T\n",
        "temp=[]\n",
        "# print(vectorsT.shape)\n",
        "for i in range(0,len(values)):\n",
        "  temp.append([values[i],vectorsT[i]])\n",
        "# print(temp)\n",
        "temp.sort(key=lambda x:x[0],reverse=True)\n",
        "vecsTS=[]\n",
        "for i in range(0,len(temp)):\n",
        "  vecsTS.append(temp[i][1])\n",
        "vecsTS=np.array(vecsTS)\n",
        "# print(vecsTS.shape)\n",
        "\n",
        "# print(temp2.shape)\n",
        "# print(temp[0],temp[1])\n"
      ]
    },
    {
      "cell_type": "markdown",
      "metadata": {
        "id": "ywadWSHsYEZd"
      },
      "source": [
        "**(b) [2 points]** Analyze the eigenvalues in $\\Lambda$ and decide which eigenvalues to retain and which can be set to zero. \n",
        "\n",
        "* You may want to plot the eigenvalues, the fraction of variance explained, AIC, or BIC, and set a threshold."
      ]
    },
    {
      "cell_type": "code",
      "execution_count": 13,
      "metadata": {
        "id": "p2-zIA5vYOHA",
        "colab": {
          "base_uri": "https://localhost:8080/",
          "height": 296
        },
        "outputId": "32f6d988-21f4-4ff3-e0b7-7578761da874"
      },
      "outputs": [
        {
          "output_type": "display_data",
          "data": {
            "text/plain": [
              "<Figure size 432x288 with 1 Axes>"
            ],
            "image/png": "[encoded data removed]"
          },
          "metadata": {
            "needs_background": "light"
          }
        },
        {
          "output_type": "stream",
          "name": "stdout",
          "text": [
            "Threshold:  17\n"
          ]
        }
      ],
      "source": [
        "# TODO\n",
        "total = np.sum(values)\n",
        "varExp = [(i/total) for i in sorted(values, reverse=True)]\n",
        "cumSum = np.cumsum(varExp)\n",
        "plt.bar(range(0,len(varExp)), varExp, alpha=0.9, align='center', label='Individual Explained Variance')\n",
        "plt.step(range(0,len(cumSum)), cumSum, where='mid',label='Cumulative Explained Variance')\n",
        "plt.ylabel('Explained Variance Ratio')\n",
        "plt.xlabel('Number of Components')\n",
        "plt.legend()\n",
        "plt.show()\n",
        "\n",
        "tsum=0\n",
        "count=0\n",
        "for i in varExp:\n",
        "  tsum+=i\n",
        "  count+=1\n",
        "  if(tsum>0.85):\n",
        "    break\n",
        "    \n",
        "print(\"Threshold: \", count)\n",
        "candidates=vecsTS[0:count]\n",
        "pca = np.matmul(imgs, candidates.T)\n",
        "# print(\"New dimensionality: \", pca.shape)"
      ]
    },
    {
      "cell_type": "markdown",
      "metadata": {
        "id": "l9UHZEggYKd0"
      },
      "source": [
        "**(c) [2 points]**  Reconstruct an approximation of each X after removing some of the small eigenvalues. (Display only a couple of the reconstructed **images**, and you will need to add the mean back.)"
      ]
    },
    {
      "cell_type": "code",
      "execution_count": 14,
      "metadata": {
        "id": "265qk4h2YUrc",
        "colab": {
          "base_uri": "https://localhost:8080/",
          "height": 1000
        },
        "outputId": "b3b97180-cc48-46a5-cec5-de88bd5dfb23"
      },
      "outputs": [
        {
          "output_type": "display_data",
          "data": {
            "text/plain": [
              "<Figure size 432x288 with 1 Axes>"
            ],
            "image/png": "[encoded data removed]"
          },
          "metadata": {
            "needs_background": "light"
          }
        },
        {
          "output_type": "display_data",
          "data": {
            "text/plain": [
              "<Figure size 432x288 with 1 Axes>"
            ],
            "image/png": "[encoded data removed]"
          },
          "metadata": {
            "needs_background": "light"
          }
        },
        {
          "output_type": "display_data",
          "data": {
            "text/plain": [
              "<Figure size 432x288 with 1 Axes>"
            ],
            "image/png": "[encoded data removed]"
          },
          "metadata": {
            "needs_background": "light"
          }
        },
        {
          "output_type": "display_data",
          "data": {
            "text/plain": [
              "<Figure size 432x288 with 1 Axes>"
            ],
            "image/png": "[encoded data removed]"
          },
          "metadata": {
            "needs_background": "light"
          }
        },
        {
          "output_type": "display_data",
          "data": {
            "text/plain": [
              "<Figure size 432x288 with 1 Axes>"
            ],
            "image/png": "[encoded data removed]"
          },
          "metadata": {
            "needs_background": "light"
          }
        },
        {
          "output_type": "display_data",
          "data": {
            "text/plain": [
              "<Figure size 432x288 with 1 Axes>"
            ],
            "image/png": "[encoded data removed]"
          },
          "metadata": {
            "needs_background": "light"
          }
        },
        {
          "output_type": "display_data",
          "data": {
            "text/plain": [
              "<Figure size 432x288 with 1 Axes>"
            ],
            "image/png": "[encoded data removed]"
          },
          "metadata": {
            "needs_background": "light"
          }
        },
        {
          "output_type": "display_data",
          "data": {
            "text/plain": [
              "<Figure size 432x288 with 1 Axes>"
            ],
            "image/png": "[encoded data removed]"
          },
          "metadata": {
            "needs_background": "light"
          }
        }
      ],
      "source": [
        "# TODO\n",
        "pinv = la.pinv(candidates.T)\n",
        "reconst=np.matmul(pca,pinv)\n",
        "reconstOG=reconst.copy()\n",
        "reconst+=mean\n",
        "\n",
        "plt.gray()\n",
        "plt.title(\"Original Image 9\")\n",
        "plt.imshow(imgsOG[10].reshape(8,8))\n",
        "plt.show()\n",
        "plt.title(\"Reconstructed Image 9\")\n",
        "plt.imshow(reconst[10].reshape(8,8))\n",
        "plt.show()\n",
        "\n",
        "plt.title(\"Original Image 33\")\n",
        "plt.imshow(imgsOG[32].reshape(8,8))\n",
        "plt.show()\n",
        "plt.title(\"Reconstructed Image 33\")\n",
        "plt.imshow(reconst[32].reshape(8,8))\n",
        "plt.show()\n",
        "\n",
        "plt.title(\"Original Image 17\")\n",
        "plt.imshow(imgsOG[16].reshape(8,8))\n",
        "plt.show()\n",
        "plt.title(\"Reconstructed Image 17\")\n",
        "plt.imshow(reconst[16].reshape(8,8))\n",
        "plt.show()\n",
        "\n",
        "plt.title(\"Original Image 48\")\n",
        "plt.imshow(imgsOG[47].reshape(8,8))\n",
        "plt.show()\n",
        "plt.title(\"Reconstructed Image 48\")\n",
        "plt.imshow(reconst[47].reshape(8,8))\n",
        "plt.show()"
      ]
    },
    {
      "cell_type": "markdown",
      "metadata": {
        "id": "_zeK-Qoc0TXu"
      },
      "source": [
        "**(d) [2 points]**  Compute the error between the reconstructed X and original image. (The mean of the original data should **not** be included in the error.)"
      ]
    },
    {
      "cell_type": "code",
      "execution_count": 15,
      "metadata": {
        "collapsed": true,
        "id": "O5Hn63Id0TXu",
        "colab": {
          "base_uri": "https://localhost:8080/"
        },
        "outputId": "ce6e01f6-3e7b-4bbe-da4f-a37288128048"
      },
      "outputs": [
        {
          "output_type": "stream",
          "name": "stdout",
          "text": [
            "Reconstruction Error:  2.5796427246481084\n"
          ]
        }
      ],
      "source": [
        "# TODO\n",
        "error = np.mean(np.square(imgs-reconstOG))\n",
        "print(\"Reconstruction Error: \", error)"
      ]
    },
    {
      "cell_type": "markdown",
      "metadata": {
        "id": "A8BLgPQQ0TXv"
      },
      "source": [
        "**(e) [2 points]**  Analyze by choosing different numbers of eigenvalues to be zeroed out. Provide a short summary of your conclusions based on this analysis."
      ]
    },
    {
      "cell_type": "code",
      "execution_count": 16,
      "metadata": {
        "id": "wvkiFOUP0TXv",
        "colab": {
          "base_uri": "https://localhost:8080/",
          "height": 295
        },
        "outputId": "5c706084-9864-4533-a6ca-18fdcbbf3392"
      },
      "outputs": [
        {
          "output_type": "display_data",
          "data": {
            "text/plain": [
              "<Figure size 432x288 with 1 Axes>"
            ],
            "image/png": "[encoded data removed]"
          },
          "metadata": {
            "needs_background": "light"
          }
        }
      ],
      "source": [
        "# TODO\n",
        "data = np.array([\n",
        "    [10, 4.91],\n",
        "    [20, 1.98],\n",
        "    [30, 0.76],\n",
        "    [40, 0.22],\n",
        "    [50, 0.008]\n",
        "])\n",
        "xCoods=[]\n",
        "yCoods=[]\n",
        "for i in data:\n",
        "    xCoods.append(i[0])\n",
        "    yCoods.append(i[1])\n",
        "plt.title(\"Average Error vs Number of Eigen Vectors\")\n",
        "plt.plot(xCoods, yCoods, color=\"r\", label=\"Mean Squared Error\")\n",
        "plt.xlabel(\"X = No. of Eigen Vectors\")\n",
        "plt.ylabel(\"Y =  Average Error\")\n",
        "plt.legend()\n",
        "plt.show()"
      ]
    },
    {
      "cell_type": "markdown",
      "source": [
        "Conclusions:\n",
        "1. It can be seen that the error (MSE) drops as number of eigen vectors used is increased.\n",
        "2. The error (MSE) is roughly 2.58 after selecting a threshold of 17 eigen vectors."
      ],
      "metadata": {
        "id": "VQh6ggw369EJ"
      }
    }
  ],
  "metadata": {
    "colab": {
      "provenance": []
    },
    "kernelspec": {
      "display_name": "Python 3 (ipykernel)",
      "language": "python",
      "name": "python3"
    },
    "language_info": {
      "codemirror_mode": {
        "name": "ipython",
        "version": 3
      },
      "file_extension": ".py",
      "mimetype": "text/x-python",
      "name": "python",
      "nbconvert_exporter": "python",
      "pygments_lexer": "ipython3",
      "version": "3.8.16"
    },
    "vscode": {
      "interpreter": {
        "hash": "50292dbb1f747f7151d445135d392af3138fb3c65386d17d9510cb605222b10b"
      }
    }
  },
  "nbformat": 4,
  "nbformat_minor": 0
}