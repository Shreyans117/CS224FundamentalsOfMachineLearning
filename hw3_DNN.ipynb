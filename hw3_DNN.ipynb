{
  "cells": [
    {
      "cell_type": "markdown",
      "metadata": {
        "id": "UKc8K9_57UEz"
      },
      "source": [
        "# CS224 - Winter 2023 - PROGRAMMING ASSIGNMENT 3 - DNN\n",
        "\n",
        "**Due**: March 22, 2023 @ 11:59pm PDT\n",
        "\n",
        "**Maximum points**: 15"
      ]
    },
    {
      "cell_type": "markdown",
      "metadata": {
        "id": "JL5tIX4c9z6s"
      },
      "source": [
        "<div style=\"margin-bottom: 15px; padding: 15px; color: #31708f; background-color: #d9edf7; border: 1px solid #bce8f1; border-radius: 5px;\">\n",
        "    \n",
        "<b><font size=+2>Enter your information below:</font></b></br></br>\n",
        "\n",
        "  <b>(full) Name</b>: Shreyans Magdum\n",
        "  </br>\n",
        "  <b>Student ID Number</b>:  862254814\n",
        "  </br></br>\n",
        "    \n",
        "<b>By submitting this notebook, I assert that the work below is my own work, completed for this course.  Except where explicitly cited, none of the portions of this notebook are duplicated from anyone else's work or my own previous work.</b>\n",
        "</div>"
      ]
    },
    {
      "cell_type": "markdown",
      "metadata": {
        "id": "ws7HS-yHJmKL"
      },
      "source": [
        "<div style=\"padding: 15px; color: #8a6d3b; background-color: #fcf8e3; border: 1px solid #faebcc; border-radius: 5px;\">\n",
        "<b><font size=+2>Academic Integrity</font></b></br> \n",
        "Each assignment should be done  individually. You may discuss general approaches with other students in the class, and ask questions to the TA, but  you must only submit work that is yours . If you receive help by any external sources (other than the TA and the instructor), you must properly credit those sources. The UCR Academic Integrity policies are available at <a href=\"http://conduct.ucr.edu/policies/academicintegrity.html\" target=\"_blank\">http://conduct.ucr.edu/policies/academicintegrity.html</a>.\n",
        "</div>"
      ]
    },
    {
      "cell_type": "markdown",
      "metadata": {
        "id": "hsywQWEI8pzj"
      },
      "source": [
        "# Overview \n",
        "In this assignment you will extract the Deep Convolutional Neural Network features of a dataset(Question 1), implement multinomial logistic regression(Question 2) and ROC curve(Question 3).  \n",
        "\n",
        "For this assignment we will use the functionality of [PyTorch](https://pytorch.org/tutorials/beginner/basics/quickstart_tutorial.html), [Numpy](http://www.numpy.org/), and [Matplotlib](https://matplotlib.org/).\n",
        "\n",
        "If you are asked to **implement** a particular functionality, you should **not** use an existing implementation from the libraries above (or some other library that you may find). When in doubt, **please ask**. \n",
        "\n",
        "Before you start, make sure you have installed all those packages in your local Jupyter instance.\n",
        "\n",
        "\n",
        "Read **all** cells carefully and answer **all** parts (both text and missing code). You will complete all the code marked `TODO` and answer descriptive/derivation questions."
      ]
    },
    {
      "cell_type": "code",
      "execution_count": 3,
      "metadata": {
        "id": "NM7-Cx4H-jTt"
      },
      "outputs": [],
      "source": [
        "%matplotlib inline\n",
        "import numpy as np\n",
        "import torch.nn as nn\n",
        "import torchvision.models as models\n",
        "import torchvision.datasets as datasets\n",
        "import torchvision.transforms as transforms\n",
        "from torch.autograd import Variable\n",
        "import scipy.io as sio\n",
        "\n",
        "import matplotlib.pyplot as plt\n",
        "import torch"
      ]
    },
    {
      "cell_type": "markdown",
      "metadata": {
        "id": "23pjSoEH0zxo"
      },
      "source": [
        "DO **NOT** MODIFY ANYTHING IF NOT MENTIONED."
      ]
    },
    {
      "cell_type": "markdown",
      "metadata": {
        "id": "WHgsgFGF-kNA"
      },
      "source": [
        "# **Question 1: DNN [6 points]**\n",
        "In this problem, you are required to extract the Deep Convolutional Neural Network (CNN)\n",
        "features for a dataset. \n",
        "\n",
        "The dataset provided is the [**MNIST**](https://pytorch.org/vision/main/generated/torchvision.datasets.MNIST.html) dataset."
      ]
    },
    {
      "cell_type": "code",
      "execution_count": 4,
      "metadata": {
        "id": "PTv71Plf-vZJ"
      },
      "outputs": [],
      "source": [
        "mnist_trainset = datasets.MNIST(root='./data', train=True, download=True, transform=None)\n",
        "mnist_testset = datasets.MNIST(root='./data', train=False, download=True, transform=None)"
      ]
    },
    {
      "cell_type": "markdown",
      "metadata": {
        "id": "NDjf5U_NJmKN"
      },
      "source": [
        "You need to extract features from these images using the [**ResNet-50**](https://pytorch.org/hub/nvidia_deeplearningexamples_resnet50/) architecture available in PyTorch.\n",
        "\n",
        "You need to fill in the function named `extract`, which loads the images, extracts the features and appends them to the feature list along with the corresponding labels. The output of this code is the file `'mnist_train.mat` and `mnist_test.mat`, which are to be used in the next problem. This file should have\n",
        "\n",
        "1. `features` of dimension $m\\times n$, where $m=60000$ is the number of images and $n=2048$ is the feature dimension obtained using ResNet-50.\n",
        "1.  `labels` is a vector of length $m$ containing labels from 0 to 9 for the 10 categories.\n",
        "\n",
        "Some portions of the code is already filled in for convenience. Please do **not** modify anything if not mentioned.\n",
        "\n"
      ]
    },
    {
      "cell_type": "code",
      "execution_count": 5,
      "metadata": {
        "id": "-Y69hI0SJmKO"
      },
      "outputs": [],
      "source": [
        "from torchvision.models import resnet50\n",
        "\n",
        "def extract(dataset, filename):\n",
        "    features = []\n",
        "    labels = []\n",
        "\n",
        "    transform_test = transforms.Compose([\n",
        "        transforms.Grayscale(num_output_channels=3),\n",
        "        transforms.ToTensor(),\n",
        "        transforms.Normalize((0.5), (0.5))\n",
        "    ])\n",
        "\n",
        "    # TODO: get ResNet-50 from PyTorch\n",
        "    extractor = resnet50(pretrained=True)\n",
        "    modules = list(extractor.children())[:-1]\n",
        "    extractor = torch.nn.Sequential(*modules)\n",
        "    extractor.eval()\n",
        "    for (_img, label) in dataset:\n",
        "        # TODO: fill in to load image, preprocess, and extract features\n",
        "        # the output variable F expected to be the feature of the image of dimension (2048,)\n",
        "        img = transform_test(_img)\n",
        "        img = torch.unsqueeze(img, 0)\n",
        "\n",
        "        with torch.no_grad():\n",
        "            F = extractor(img)\n",
        "            F = F.view(F.size(0), -1)\n",
        "        \n",
        "        # TODO\n",
        "        F=F.numpy().flatten()\n",
        "      \n",
        "        # print(F.shape)\n",
        "        features.append(F)\n",
        "        labels.append(label)\n",
        "        \n",
        "    sio.savemat(filename, mdict={'features': features, 'labels': labels})"
      ]
    },
    {
      "cell_type": "markdown",
      "metadata": {
        "id": "jKxtH-2jMZG6"
      },
      "source": [
        "Run the code below to get extracted features and labels of MNIST dataset, and then save it to `.mat` file. (This might take a while.) \n",
        "\n",
        "You do **not** need to submit the `.mat` file along with the PDF file."
      ]
    },
    {
      "cell_type": "code",
      "execution_count": 6,
      "metadata": {
        "id": "dPRvBgRQMiQP"
      },
      "outputs": [
        {
          "name": "stderr",
          "output_type": "stream",
          "text": [
            "/Users/shreyans117/opt/anaconda3/lib/python3.9/site-packages/torchvision/models/_utils.py:208: UserWarning: The parameter 'pretrained' is deprecated since 0.13 and will be removed in 0.15, please use 'weights' instead.\n",
            "  warnings.warn(\n",
            "/Users/shreyans117/opt/anaconda3/lib/python3.9/site-packages/torchvision/models/_utils.py:223: UserWarning: Arguments other than a weight enum or `None` for 'weights' are deprecated since 0.13 and will be removed in 0.15. The current behavior is equivalent to passing `weights=ResNet50_Weights.IMAGENET1K_V1`. You can also use `weights=ResNet50_Weights.DEFAULT` to get the most up-to-date weights.\n",
            "  warnings.warn(msg)\n",
            "[W NNPACK.cpp:51] Could not initialize NNPACK! Reason: Unsupported hardware.\n"
          ]
        }
      ],
      "source": [
        "extract(mnist_trainset, 'mnist_train.mat')\n",
        "extract(mnist_testset, 'mnist_test.mat')"
      ]
    },
    {
      "cell_type": "markdown",
      "metadata": {
        "id": "S68CcxLxJmKP"
      },
      "source": [
        "# **Question 2: Multinomial Logistic Regression [6 points]**\n",
        "In this problem, you will implement the multinomial logistic regression using the extracted features and labels in Question 1. \n",
        "\n",
        "You should use variables `trfeature` and `trlabel` for training and `tefeature` and `telabel` for testing. \n",
        "\n",
        "Please remember to map the labels properly for testing. You need to fill in the function named `apply_gradient`, which returns the updated parameter $\\theta$ after a single pass of gradient descent using the given data points and labels. You also need to fill up certain the portions as mentioned in function `mlr`.\n",
        "\n",
        "\n",
        "- Using built-in functions like `sklearn.linear_model.LogisticRegression()` will **not** give you any points.\n",
        "- Please do **not** modify anything if not mentioned."
      ]
    },
    {
      "cell_type": "code",
      "execution_count": 18,
      "metadata": {
        "id": "L3RP3Lm5JmKP"
      },
      "outputs": [],
      "source": [
        "BATCH_SIZE = 64 # fill in and modify to see change in performance\n",
        "LR = 0.001 # learning rate; fill in and modify to see change in performance\n",
        "\n",
        "def get_one_hot(labels):\n",
        "    cats = np.unique(labels)\n",
        "    onehot = np.zeros((labels.size, cats.size))\n",
        "    onehot[np.arange(labels.size), labels] = 1.\n",
        "    return onehot\n",
        "\n",
        "def plot(train_acc, test_acc):\n",
        "    plt.plot(np.arange(len(train_acc)),  train_acc, 'r-', label='Train Accuracy')\n",
        "    plt.plot(np.arange(len(test_acc)),  test_acc, 'b-', label='Test Accuracy')\n",
        "    plt.xlabel('Epoch Number')\n",
        "    plt.ylabel('Accuracy')\n",
        "    plt.legend()\n",
        "    plt.show()\n",
        "\n",
        "\n",
        "# X is a matrix of size n_samples x n_feature\n",
        "# L is a vector of size n_samples x n_category\n",
        "# theta is a matrix of size n_feature x n_category\n",
        "def apply_gradients(X, L, theta, LR):\n",
        "    grad = np.dot(X.T, (L - softmax(np.dot(X, theta))))\n",
        "    new_theta = theta + LR * grad\n",
        "    return new_theta\n",
        "\n",
        "def softmax(X):\n",
        "    exps = np.exp(X - np.max(X, axis=1, keepdims=True))\n",
        "    return exps / np.sum(exps, axis=1, keepdims=True)\n",
        "\n",
        "def mlr(trfeature, tr_onehot, tefeature, te_onehot):\n",
        "    m_tr = tr_onehot.shape[0] # number of training samples\n",
        "\n",
        "    theta = np.zeros((trfeature.shape[1], tr_onehot.shape[1])) # initialize\n",
        "    diff = 1\n",
        "    epoch = 0\n",
        "\n",
        "    predonehot = []\n",
        "    train_accuracy_list = []\n",
        "    test_accuracy_list = []\n",
        "    while diff > 1e-10 and epoch < 1000:\n",
        "        theta_old = theta\n",
        "        # Train\n",
        "        for i in range(0, m_tr, BATCH_SIZE):\n",
        "            endpos = min(m_tr, i+BATCH_SIZE-1)\n",
        "            theta = apply_gradients(trfeature[i:endpos,:], tr_onehot[i:endpos,:], theta, LR)\n",
        "        \n",
        "        diff = np.linalg.norm(theta_old-theta)\n",
        "\n",
        "        # TODO: predict on the test dataset\n",
        "        # fill in to assign the corresponding probabilities to variable predonehot rather than the real one-hot encoding\n",
        "        # the shape of predonehot is (n_sample,n_ categories); we will need this variable in Question 3\n",
        "        predonehot = softmax(np.dot(tefeature, theta))\n",
        "\n",
        "        test_accuracy = np.mean(np.argmax(predonehot, axis=1) == np.argmax(te_onehot, axis=1))\n",
        "        test_accuracy_list.append(test_accuracy)\n",
        "\n",
        "        train_accuracy = np.mean(np.argmax(softmax(np.dot(trfeature, theta)), axis=1) == np.argmax(tr_onehot, axis=1))\n",
        "        train_accuracy_list.append(train_accuracy)\n",
        "\n",
        "        epoch += 1\n",
        "        # Update learning rate if you want\n",
        "\n",
        "    plot(train_accuracy_list, test_accuracy_list)\n",
        "\n",
        "    print('Test Accuracy: %.5f'%(test_accuracy_list[-1]))\n",
        "\n",
        "    return predonehot\n"
      ]
    },
    {
      "cell_type": "markdown",
      "metadata": {
        "id": "v-rxbuG-JmKP"
      },
      "source": [
        "Run the code below, check the accuracy plot, and report the test accuracy you obtain."
      ]
    },
    {
      "cell_type": "code",
      "execution_count": 19,
      "metadata": {
        "id": "EgHsvRvxsydt"
      },
      "outputs": [
        {
          "data": {
            "image/png": "[encoded data removed]",
            "text/plain": [
              "<Figure size 640x480 with 1 Axes>"
            ]
          },
          "metadata": {},
          "output_type": "display_data"
        },
        {
          "name": "stdout",
          "output_type": "stream",
          "text": [
            "Test Accuracy: 0.96680\n"
          ]
        }
      ],
      "source": [
        "# get the extracted features from Question 1\n",
        "trmat = sio.loadmat('mnist_train.mat')\n",
        "temat = sio.loadmat('mnist_test.mat')\n",
        "\n",
        "trfeature, trlabel = trmat['features'], trmat['labels']\n",
        "tefeature, telabel = temat['features'], temat['labels']\n",
        "\n",
        "teonehot = get_one_hot(telabel)\n",
        "# fit multinomial logistic regression\n",
        "# we will need the variable predonehot for next question\n",
        "predonehot = mlr(trfeature, get_one_hot(trlabel), tefeature, teonehot)"
      ]
    },
    {
      "cell_type": "markdown",
      "metadata": {
        "id": "YwQX25QtJmKP"
      },
      "source": [
        "# **Question 3: ROC [3 points]**\n",
        "In this problem, you need to implement the Receiver Operating Characteristics (ROC) curve. The output of the function `getROC` should be `TPR`, `FPR` representing True Positive Rate and False Positive Rate respectively.\n",
        "\n",
        "- Using built-in functions like `sklearn.metrics.roc_curve()` will **not** give you any points."
      ]
    },
    {
      "cell_type": "code",
      "execution_count": 34,
      "metadata": {
        "id": "TOTg4RUPJmKP"
      },
      "outputs": [],
      "source": [
        "# pred is a vector of predictions of size n_samples x 1\n",
        "# gt is the ground truth vector of 1 or 0 of size n_samples x 1 (1 indicates a positive and 0 negative)\n",
        "# TPR is the True Positive Rate\n",
        "# FPR is the False Positive Rate\n",
        "def getROC(pred, gt):\n",
        "    # TODO\n",
        "    TPR = []\n",
        "\n",
        "    FPR = []\n",
        "\n",
        "    truePos = sum(gt)\n",
        "\n",
        "    trueNeg = len(gt) - truePos\n",
        "\n",
        "    uniquePreds = sorted(np.unique(pred))\n",
        "    for i in range(0,len(uniquePreds), 10):\n",
        "        j=uniquePreds[i]\n",
        "        TPR.append( ( (pred >= j ) & (gt == 1) ).sum() / truePos ) \n",
        "        FPR.append( ( (pred >=  j ) & (gt == 0) ).sum() / trueNeg )\n",
        "\n",
        "    return TPR, FPR"
      ]
    },
    {
      "cell_type": "markdown",
      "metadata": {
        "id": "98IJDswCMge4"
      },
      "source": [
        "Run the code below to plot the ROC you got for the 9-th category."
      ]
    },
    {
      "cell_type": "code",
      "execution_count": 35,
      "metadata": {
        "id": "AyxMhtzKLnac"
      },
      "outputs": [
        {
          "data": {
            "image/png": "[encoded data removed]",
            "text/plain": [
              "<Figure size 640x480 with 1 Axes>"
            ]
          },
          "metadata": {},
          "output_type": "display_data"
        }
      ],
      "source": [
        "TPR, FPR = getROC(np.array(predonehot)[:, 9], teonehot[:, 9])\n",
        "\n",
        "plt.plot(FPR, TPR, 'b-')\n",
        "plt.xlabel('False Positive Rate')\n",
        "plt.ylabel('True Positive Rate')\n",
        "plt.show()"
      ]
    }
  ],
  "metadata": {
    "accelerator": "GPU",
    "colab": {
      "provenance": []
    },
    "gpuClass": "standard",
    "kernelspec": {
      "display_name": "Python 3.9.13 64-bit",
      "language": "python",
      "name": "python3"
    },
    "language_info": {
      "codemirror_mode": {
        "name": "ipython",
        "version": 3
      },
      "file_extension": ".py",
      "mimetype": "text/x-python",
      "name": "python",
      "nbconvert_exporter": "python",
      "pygments_lexer": "ipython3",
      "version": "3.9.13"
    },
    "vscode": {
      "interpreter": {
        "hash": "50292dbb1f747f7151d445135d392af3138fb3c65386d17d9510cb605222b10b"
      }
    }
  },
  "nbformat": 4,
  "nbformat_minor": 0
}
